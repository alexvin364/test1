{
  "nbformat": 4,
  "nbformat_minor": 0,
  "metadata": {
    "colab": {
      "name": "Untitled1.ipynb",
      "provenance": [],
      "collapsed_sections": []
    },
    "kernelspec": {
      "name": "python3",
      "display_name": "Python 3"
    }
  },
  "cells": [
    {
      "cell_type": "markdown",
      "metadata": {
        "id": "2A9uMaQLHRca",
        "colab_type": "text"
      },
      "source": [
        "#Задача с именами\n",
        "\n",
        "Есть файл с именами (https://yadi.sk/i/97rbNP2ucGoAKw). Нужно выполнить следующие действия и посчитать результат:\n",
        "\n",
        "1) Отсортировать все имена в лексикографическом порядке\n",
        "\n",
        "2) Посчитать для каждого имени алфавитную сумму – сумму порядковых номеров букв (MAY: 13 + 1 + 25 = 39)\n",
        "\n",
        "3) Умножить алфавитную сумму каждого имени на порядковый номер имени в отсортированном списке (индексация начинается с 1). Например, если MAY находится на 63 месте в списке, то результат для него будет 63 * 39 = 2457.\n",
        "\n",
        "4) Просуммировать произведения из п. 3 для всех имен из файла и получить число. Это число и будет ответом."
      ]
    },
    {
      "cell_type": "code",
      "metadata": {
        "id": "7Xeh3BH9Aw8L",
        "colab_type": "code",
        "outputId": "98c5e7d0-25da-45af-af21-ca8c27d9ff06",
        "colab": {
          "base_uri": "https://localhost:8080/",
          "height": 34
        }
      },
      "source": [
        "def count_sum(name):      \n",
        "    \"\"\" алфавитная сумма – сумма порядковых номеров букв (MAY: 13 + 1 + 25 = 39) \"\"\"\n",
        "    return sum([ord(i)-ord('A')+1 for i in name])\n",
        "\n",
        "\n",
        "f1 = open('names.txt', 'r')\n",
        "names = f1.read().split(',')\n",
        "names.sort()\n",
        "answer = sum([(i+1) * count_sum(names[i].strip('\"')) for i in range(len(names))])\n",
        "print(answer)\n",
        "f1.close()"
      ],
      "execution_count": 1,
      "outputs": [
        {
          "output_type": "stream",
          "text": [
            "871853874\n"
          ],
          "name": "stdout"
        }
      ]
    },
    {
      "cell_type": "markdown",
      "metadata": {
        "id": "cjgqV_yQH2wK",
        "colab_type": "text"
      },
      "source": [
        "#Задача с ip адресами\n",
        "\n",
        "Есть файл со строками (https://yadi.sk/d/u6AOqGqKozTrpw) вида :\n",
        "\n",
        "\\<host>\\t\\<ip>\\t\\<page>\\n\"\n",
        "\n",
        "Нужно вывести 5 айпи-адресов, которые встречаются чаще других."
      ]
    },
    {
      "cell_type": "code",
      "metadata": {
        "id": "_xh46YWCHQw6",
        "colab_type": "code",
        "colab": {}
      },
      "source": [
        "from zipfile import ZipFile\n",
        "\n",
        "with ZipFile('hits.txt.zip', 'r') as zipObj:\n",
        "    zipObj.extractall('/')"
      ],
      "execution_count": 0,
      "outputs": []
    },
    {
      "cell_type": "code",
      "metadata": {
        "id": "jlrzDaNmJH_6",
        "colab_type": "code",
        "outputId": "d566e08b-656e-4567-e5bf-01273280bd47",
        "colab": {
          "base_uri": "https://localhost:8080/",
          "height": 102
        }
      },
      "source": [
        "f2 = open('/hits.txt', 'r')\n",
        "lines = f2.read().split('\\n')\n",
        "ip_addresses = [line.split('\\t')[1] for line in lines if '\\t' in line]\n",
        "ip_counts = {ip:ip_addresses.count(ip) for ip in set(ip_addresses)}\n",
        "answer = sorted(ip_counts.items(), key=lambda item: item[1], reverse=True)[:5]\n",
        "for a in answer:\n",
        "    print(a[0])\n",
        "f2.close()"
      ],
      "execution_count": 3,
      "outputs": [
        {
          "output_type": "stream",
          "text": [
            "154.157.157.156\n",
            "82.146.232.163\n",
            "194.78.107.33\n",
            "226.247.119.128\n",
            "21.143.243.182\n"
          ],
          "name": "stdout"
        }
      ]
    },
    {
      "cell_type": "markdown",
      "metadata": {
        "id": "dhfXdJ5cS2Ty",
        "colab_type": "text"
      },
      "source": [
        "#Задача с качеством уроков\n",
        "\n",
        "В нашей школе ученики и репетиторы занимаются в специальном онлайн-классе, в котором они могут общаться друг с другом, рисовать на доске, переписываться в чате, обмениваться файлами и решать различные задачки. Информацию о каждом уроке мы старательно записываем в базу данных в таблицу lessons. На каждом таком уроке присутствует один репетитор и один ученик (существуют еще тренировочные уроки, у которых единственный участник – репетитор, но для нашей задачи они неинтересны). В конце урока, когда учитель и ученик покидают класс, они могут оценить (а могут и пропустить этот этап) качество пройденного урока по пятибальной шкале. Все оценки мы записываем в таблицу quality, чтобы мы могли узнавать, хорошо ли работает наш сайт.\n",
        "\n",
        "В этой задаче тебе нужно будет в каждый день найти репетитора, уроки которого получили самую низкую оценку качества, и вывести эту оценку.\n",
        "\n",
        "В архиве (https://yadi.sk/d/ESH_lU5sZRdKhA) содержится четыре файла с выгрузкой строк из базы.\n",
        "\n",
        "lessons.txt содержит следующие поля:\n",
        "id – уникальный идентификатор урока.\n",
        "event_id – идентификатор, связывающий уроки с файлом participants. У нескольких уроков может быть один и тот же event_id. Подробнее про это будет позже\n",
        "subject – предмет урока, просто строка\n",
        "scheduled_time – время начала урока, в формате ГГГГ-ММ-ДД чч:мм:сс (иногда есть еще миллисекунды). Время указано в UTC.\n",
        "\n",
        "quality.txt содержит следующие поля:\n",
        "lesson_id – идентификатор урока, указывает на запись в таблице lessons.txt. У нескольких строчек из этого файла может быть один и тот же lesson_id, потому что оценок за урок может быть несколько (например, оба участника, ученик и репетитор могут оценить качество урока)\n",
        "tech_quality – собственно оценка качества урока. Это число от 1 до 5. Иногда его может не быть, если пользователь не выставил оценку.\n",
        "\n",
        "users.txt хранит информацию о пользователях и содержит всего два поля:\n",
        "id – уникальный идентификатор пользователя\n",
        "role – указывает является ли пользователь учеником (pupil) или учителем (tutor)\n",
        "\n",
        "Файл participants.txt позволяет связать урок с его участниками. Он содержит следующие поля:\n",
        "user_id – идентификатор пользователя (указывает на запись в файле users.txt)\n",
        "event_id – идентификатор, связывающий урок с участником. То есть, чтобы понять, какие пользователи были на уроке Х, нужно найти в файле participants.txt строки, у которых event_id совпадает с event_id урока Х.\n",
        "\n",
        "Для решения задачки нужно сделать следующее:\n",
        "1. Найти все уроки по физике (subject=phys).\n",
        "2. В каждый день (начало и конец дня считается по московскому времени, то есть UTC+3:00) для каждого репетитора посчитать среднюю арифметическую оценку за его уроки (учитывать только уроки из п. 1). То есть, если учитель проводил в этот день три урока по физике, один из них он оценил на 3, а ученик оценил его на 4, второму уроку оценку поставил только ученик, и эта оценка 5, а третий урок вообще никто не оценил, то средняя арифметическая оценка учителя за уроки = (3 + 4 + 5) / 3 = 4.\n",
        "3. Найти учителя, который в этот день имеет самую низкую среднюю арифметическую оценку за уроки (среди всех учителей, проводивших уроки по физике в этот день).\n",
        "4. Вывести его в формате \"<день> <id учителя> <средняя арифметическая оценка>\". Оценку можно округлить с точностью до двух знаков после запятой. То есть как-то так:\n",
        "2020-01-11 73c9af08-8581-430c-a590-9888ab36deb3 3.67\n",
        "2020-01-12 909c2c8e-c054-4e9f-a51a-50bf5660f364 3.25\n",
        "...\n",
        "4. Учитывать нужно только тех учителей, за уроки по физике которых в этот день стоит хотя бы одна оценка. Если у нескольких учителей одна и та же самая оценка, можно вывести любого.\n",
        "5. Если есть необходимость, предварительно можно предобработать данные (сконвертировав их в csv или загрузив в базу данных) и работать уже с ними."
      ]
    },
    {
      "cell_type": "code",
      "metadata": {
        "id": "M5aZ5qbOZHaB",
        "colab_type": "code",
        "colab": {}
      },
      "source": [
        "from zipfile import ZipFile\n",
        "\n",
        "with ZipFile('tech_quality.zip', 'r') as zipObj:\n",
        "    zipObj.extractall('/')"
      ],
      "execution_count": 0,
      "outputs": []
    },
    {
      "cell_type": "code",
      "metadata": {
        "id": "0p0uFNvsZaH5",
        "colab_type": "code",
        "colab": {}
      },
      "source": [
        "import pandas as pd\n",
        "from datetime import datetime, timedelta\n",
        "\n",
        "\n",
        "# Предобработка\n",
        "lessons = pd.read_csv(\"/tech_quality/lessons.txt\", sep='|')\n",
        "lessons.columns = ['id', 'event_id', 'subject', 'scheduled_time']\n",
        "lessons['id'] = [i.strip() for i in lessons['id']]\n",
        "\n",
        "participants = pd.read_csv(\"/tech_quality/participants.txt\", sep='|')\n",
        "participants.columns = ['event_id', 'user_id']\n",
        "participants['event_id'] = [i.strip() for i in participants['event_id']]\n",
        "\n",
        "quality = pd.read_csv(\"/tech_quality/quality.txt\", sep='|')\n",
        "quality.columns = ['lesson_id', 'tech_quality']\n",
        "quality['lesson_id'] = [i.strip() for i in quality['lesson_id']]\n",
        "\n",
        "users = pd.read_csv(\"/tech_quality/users.txt\", sep='|')\n",
        "users.columns = ['user_id', 'role']\n",
        "users['user_id'] = [i.strip() for i in users['user_id']]"
      ],
      "execution_count": 0,
      "outputs": []
    },
    {
      "cell_type": "code",
      "metadata": {
        "id": "YhF8tJmhs6uz",
        "colab_type": "code",
        "outputId": "9c4ad5bc-971f-440c-db8c-e5fb950750a2",
        "colab": {
          "base_uri": "https://localhost:8080/",
          "height": 419
        }
      },
      "source": [
        "lessons = lessons.loc[lessons.subject == ' phys    ']\n",
        "lessons['msk_date'] = [(datetime.strptime(day[1:20], '%Y-%m-%d %H:%M:%S') + timedelta(hours=3)).date() for day in lessons.scheduled_time]   # сдвиг на 3 часа\n",
        "days = set(lessons.msk_date)  # все дни, по которым пройдет цикл выбора репетитора\n",
        "lessons"
      ],
      "execution_count": 6,
      "outputs": [
        {
          "output_type": "execute_result",
          "data": {
            "text/html": [
              "<div>\n",
              "<style scoped>\n",
              "    .dataframe tbody tr th:only-of-type {\n",
              "        vertical-align: middle;\n",
              "    }\n",
              "\n",
              "    .dataframe tbody tr th {\n",
              "        vertical-align: top;\n",
              "    }\n",
              "\n",
              "    .dataframe thead th {\n",
              "        text-align: right;\n",
              "    }\n",
              "</style>\n",
              "<table border=\"1\" class=\"dataframe\">\n",
              "  <thead>\n",
              "    <tr style=\"text-align: right;\">\n",
              "      <th></th>\n",
              "      <th>id</th>\n",
              "      <th>event_id</th>\n",
              "      <th>subject</th>\n",
              "      <th>scheduled_time</th>\n",
              "      <th>msk_date</th>\n",
              "    </tr>\n",
              "  </thead>\n",
              "  <tbody>\n",
              "    <tr>\n",
              "      <th>1</th>\n",
              "      <td>1e7bb408-cfef-4a9f-8328-351c9483a64c</td>\n",
              "      <td>38114.0</td>\n",
              "      <td>phys</td>\n",
              "      <td>2020-01-19 12:00:00</td>\n",
              "      <td>2020-01-19</td>\n",
              "    </tr>\n",
              "    <tr>\n",
              "      <th>4</th>\n",
              "      <td>00fc6685-f53a-49bb-b960-5e0042fd3852</td>\n",
              "      <td>51341.0</td>\n",
              "      <td>phys</td>\n",
              "      <td>2020-01-17 12:00:00</td>\n",
              "      <td>2020-01-17</td>\n",
              "    </tr>\n",
              "    <tr>\n",
              "      <th>5</th>\n",
              "      <td>4cadf623-82e6-422f-a342-acf978302fb2</td>\n",
              "      <td>55048.0</td>\n",
              "      <td>phys</td>\n",
              "      <td>2020-01-19 14:00:00</td>\n",
              "      <td>2020-01-19</td>\n",
              "    </tr>\n",
              "    <tr>\n",
              "      <th>7</th>\n",
              "      <td>e597a79a-3f68-4d15-bc77-c7000bcf8e52</td>\n",
              "      <td>53026.0</td>\n",
              "      <td>phys</td>\n",
              "      <td>2020-01-19 15:00:00</td>\n",
              "      <td>2020-01-19</td>\n",
              "    </tr>\n",
              "    <tr>\n",
              "      <th>9</th>\n",
              "      <td>ea6f0bf3-bcfc-4555-9b16-cc2cfe722e17</td>\n",
              "      <td>51645.0</td>\n",
              "      <td>phys</td>\n",
              "      <td>2020-01-19 14:00:00</td>\n",
              "      <td>2020-01-19</td>\n",
              "    </tr>\n",
              "    <tr>\n",
              "      <th>...</th>\n",
              "      <td>...</td>\n",
              "      <td>...</td>\n",
              "      <td>...</td>\n",
              "      <td>...</td>\n",
              "      <td>...</td>\n",
              "    </tr>\n",
              "    <tr>\n",
              "      <th>367</th>\n",
              "      <td>e90f529b-1061-4efd-9bba-f73ecee2ef27</td>\n",
              "      <td>55490.0</td>\n",
              "      <td>phys</td>\n",
              "      <td>2020-01-19 08:00:00</td>\n",
              "      <td>2020-01-19</td>\n",
              "    </tr>\n",
              "    <tr>\n",
              "      <th>368</th>\n",
              "      <td>f0002160-e57e-4e90-ac7e-c8fcdbbae26f</td>\n",
              "      <td>41963.0</td>\n",
              "      <td>phys</td>\n",
              "      <td>2020-01-19 09:00:00</td>\n",
              "      <td>2020-01-19</td>\n",
              "    </tr>\n",
              "    <tr>\n",
              "      <th>369</th>\n",
              "      <td>8a1bac54-c5c6-47c9-8fdb-36d01384eaae</td>\n",
              "      <td>55881.0</td>\n",
              "      <td>phys</td>\n",
              "      <td>2020-01-19 15:00:00</td>\n",
              "      <td>2020-01-19</td>\n",
              "    </tr>\n",
              "    <tr>\n",
              "      <th>370</th>\n",
              "      <td>457accf4-bd99-4b9d-b540-ef200e65afbd</td>\n",
              "      <td>49007.0</td>\n",
              "      <td>phys</td>\n",
              "      <td>2020-01-19 05:00:00</td>\n",
              "      <td>2020-01-19</td>\n",
              "    </tr>\n",
              "    <tr>\n",
              "      <th>372</th>\n",
              "      <td>403707fd-b110-4216-b678-6dbc92eb6fad</td>\n",
              "      <td>41964.0</td>\n",
              "      <td>phys</td>\n",
              "      <td>2020-01-19 11:00:00</td>\n",
              "      <td>2020-01-19</td>\n",
              "    </tr>\n",
              "  </tbody>\n",
              "</table>\n",
              "<p>184 rows × 5 columns</p>\n",
              "</div>"
            ],
            "text/plain": [
              "                                       id  ...    msk_date\n",
              "1    1e7bb408-cfef-4a9f-8328-351c9483a64c  ...  2020-01-19\n",
              "4    00fc6685-f53a-49bb-b960-5e0042fd3852  ...  2020-01-17\n",
              "5    4cadf623-82e6-422f-a342-acf978302fb2  ...  2020-01-19\n",
              "7    e597a79a-3f68-4d15-bc77-c7000bcf8e52  ...  2020-01-19\n",
              "9    ea6f0bf3-bcfc-4555-9b16-cc2cfe722e17  ...  2020-01-19\n",
              "..                                    ...  ...         ...\n",
              "367  e90f529b-1061-4efd-9bba-f73ecee2ef27  ...  2020-01-19\n",
              "368  f0002160-e57e-4e90-ac7e-c8fcdbbae26f  ...  2020-01-19\n",
              "369  8a1bac54-c5c6-47c9-8fdb-36d01384eaae  ...  2020-01-19\n",
              "370  457accf4-bd99-4b9d-b540-ef200e65afbd  ...  2020-01-19\n",
              "372  403707fd-b110-4216-b678-6dbc92eb6fad  ...  2020-01-19\n",
              "\n",
              "[184 rows x 5 columns]"
            ]
          },
          "metadata": {
            "tags": []
          },
          "execution_count": 6
        }
      ]
    },
    {
      "cell_type": "code",
      "metadata": {
        "id": "nzZLx5ogGM9Z",
        "colab_type": "code",
        "colab": {}
      },
      "source": [
        "res = []\n",
        "for x in list(days):\n",
        "    day = lessons.loc[lessons.msk_date == x]\n",
        "    day['event_id'] = [str(int(i)) for i in day['event_id']]  # далее объединение всех таблиц (это не так затратно по ресурсам, т.к. только для 1 дня)\n",
        "    day = day.merge(participants, on='event_id').drop_duplicates()\n",
        "    day['user_id'] = [i.strip() for i in day['user_id']]\n",
        "    day = day.merge(users, on='user_id').drop_duplicates()\n",
        "    day = day.merge(quality, left_on='id', right_on='lesson_id').drop_duplicates()\n",
        "    day['tech_quality'] = [i.strip() for i in day['tech_quality']]\n",
        "    day = day[day.tech_quality != '']\n",
        "    day['tech_quality'] = [int(i) for i in day['tech_quality']]\n",
        "    lesson_list = list(set(day.lesson_id))\n",
        "    qualities = []\n",
        "    for l in lesson_list:  # получение для каждого урока суммы оценок и их количества\n",
        "        s = day[day.lesson_id == l]['tech_quality']\n",
        "        qualities.append([l, sum(s), len(s)])\n",
        "    qual = pd.DataFrame(qualities, columns=['lesson_id', 'sum', 'count'])\n",
        "    day = day.merge(qual, on='lesson_id').drop_duplicates()\n",
        "    tutor_list = list(set(day[day.role == ' tutor']['user_id']))\n",
        "    marks = []\n",
        "    for t in tutor_list:  # для каждого репетитора складываются суммы оценок всех их уроков и делятся на количество\n",
        "        s = day[day.user_id == t]\n",
        "        marks.append([sum(s['sum'])/sum(s['count']), t])\n",
        "    m = min(marks)\n",
        "    res.append([x.strftime(\"%Y-%m-%d\"), m[1], round(m[0], 2)])"
      ],
      "execution_count": 0,
      "outputs": []
    },
    {
      "cell_type": "code",
      "metadata": {
        "id": "WQITehGxkQ9t",
        "colab_type": "code",
        "outputId": "c0056abd-3752-4ab2-b029-fa815e850c4f",
        "colab": {
          "base_uri": "https://localhost:8080/",
          "height": 187
        }
      },
      "source": [
        "res.sort()\n",
        "for answer in res:\n",
        "    print(\"{} {} {}\".format(answer[0], answer[1], answer[2]))"
      ],
      "execution_count": 8,
      "outputs": [
        {
          "output_type": "stream",
          "text": [
            "2020-01-11 8fe03f08-8581-430c-a590-9888ab36deb3 3.86\n",
            "2020-01-12 696c838e-c054-4e9f-a51a-50bf5660f364 4.75\n",
            "2020-01-13 2fa2ab62-f1b0-4036-872f-bcfd9a8686ff 5.0\n",
            "2020-01-14 c6718d0e-976c-4d6c-b0e0-32c770776567 4.0\n",
            "2020-01-15 603b8641-c6f6-4d89-ac89-88e50d45aa0d 5.0\n",
            "2020-01-16 2fa2ab62-f1b0-4036-872f-bcfd9a8686ff 4.0\n",
            "2020-01-17 696c838e-c054-4e9f-a51a-50bf5660f364 4.5\n",
            "2020-01-18 43efce48-94b2-4412-857f-223d45969008 4.0\n",
            "2020-01-19 be676776-8366-4c71-8a35-d58014806eb5 4.5\n",
            "2020-01-20 30a19496-bdaf-461c-abbc-2709ae520201 4.2\n"
          ],
          "name": "stdout"
        }
      ]
    }
  ]
}